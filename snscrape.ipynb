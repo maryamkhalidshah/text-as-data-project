{
 "cells": [
  {
   "cell_type": "code",
   "execution_count": 1,
   "id": "bd1f00a0",
   "metadata": {},
   "outputs": [
    {
     "data": {
      "text/plain": [
       "0"
      ]
     },
     "execution_count": 1,
     "metadata": {},
     "output_type": "execute_result"
    }
   ],
   "source": [
    "import os\n",
    "import pandas as pd\n",
    "#from langdetect import detect\n",
    "import langdetect as ld"
   ]
  },
  {
   "cell_type": "markdown",
   "id": "00c99384",
   "metadata": {},
   "source": [
    "Grab all tweets by Imran Khan (@ImranKhanPTI) since 2015.\n",
    "\n",
    "Guidance obtained from: https://betterprogramming.pub/how-to-scrape-tweets-with-snscrape-90124ed006af"
   ]
  },
  {
   "cell_type": "code",
   "execution_count": 27,
   "id": "5d33ad11",
   "metadata": {},
   "outputs": [
    {
     "data": {
      "text/plain": [
       "0"
      ]
     },
     "execution_count": 27,
     "metadata": {},
     "output_type": "execute_result"
    }
   ],
   "source": [
    "# Using OS library to call CLI commands in Python\n",
    "os.system(\"snscrape --jsonl --since 2015-05-01 twitter-search 'from:imrankhanpti'> imran_2015_onwards.json\")"
   ]
  },
  {
   "cell_type": "code",
   "execution_count": 28,
   "id": "526698b7",
   "metadata": {},
   "outputs": [],
   "source": [
    "# Reads the json generated from the CLI commands above and creates a pandas dataframe\n",
    "tweets_df = pd.read_json('imran_2015_onwards.json', lines=True)"
   ]
  },
  {
   "cell_type": "code",
   "execution_count": 29,
   "id": "304d4f77",
   "metadata": {},
   "outputs": [
    {
     "data": {
      "text/plain": [
       "(4969, 28)"
      ]
     },
     "execution_count": 29,
     "metadata": {},
     "output_type": "execute_result"
    }
   ],
   "source": [
    "# check shape\n",
    "tweets_df.shape"
   ]
  },
  {
   "cell_type": "code",
   "execution_count": 32,
   "id": "a7526280",
   "metadata": {
    "scrolled": false
   },
   "outputs": [
    {
     "data": {
      "text/html": [
       "<div>\n",
       "<style scoped>\n",
       "    .dataframe tbody tr th:only-of-type {\n",
       "        vertical-align: middle;\n",
       "    }\n",
       "\n",
       "    .dataframe tbody tr th {\n",
       "        vertical-align: top;\n",
       "    }\n",
       "\n",
       "    .dataframe thead th {\n",
       "        text-align: right;\n",
       "    }\n",
       "</style>\n",
       "<table border=\"1\" class=\"dataframe\">\n",
       "  <thead>\n",
       "    <tr style=\"text-align: right;\">\n",
       "      <th></th>\n",
       "      <th>_type</th>\n",
       "      <th>url</th>\n",
       "      <th>date</th>\n",
       "      <th>content</th>\n",
       "      <th>renderedContent</th>\n",
       "      <th>id</th>\n",
       "      <th>user</th>\n",
       "      <th>replyCount</th>\n",
       "      <th>retweetCount</th>\n",
       "      <th>likeCount</th>\n",
       "      <th>...</th>\n",
       "      <th>media</th>\n",
       "      <th>retweetedTweet</th>\n",
       "      <th>quotedTweet</th>\n",
       "      <th>inReplyToTweetId</th>\n",
       "      <th>inReplyToUser</th>\n",
       "      <th>mentionedUsers</th>\n",
       "      <th>coordinates</th>\n",
       "      <th>place</th>\n",
       "      <th>hashtags</th>\n",
       "      <th>cashtags</th>\n",
       "    </tr>\n",
       "  </thead>\n",
       "  <tbody>\n",
       "    <tr>\n",
       "      <th>0</th>\n",
       "      <td>snscrape.modules.twitter.Tweet</td>\n",
       "      <td>https://twitter.com/ImranKhanPTI/status/151996...</td>\n",
       "      <td>2022-04-29 08:45:43+00:00</td>\n",
       "      <td>یوم القدس کے موقع پر آج ہم قابض اسرائیلی فوجیو...</td>\n",
       "      <td>یوم القدس کے موقع پر آج ہم قابض اسرائیلی فوجیو...</td>\n",
       "      <td>1519961113634512896</td>\n",
       "      <td>{'_type': 'snscrape.modules.twitter.User', 'us...</td>\n",
       "      <td>6490</td>\n",
       "      <td>36132</td>\n",
       "      <td>113093</td>\n",
       "      <td>...</td>\n",
       "      <td>None</td>\n",
       "      <td>NaN</td>\n",
       "      <td>None</td>\n",
       "      <td>NaN</td>\n",
       "      <td>None</td>\n",
       "      <td>None</td>\n",
       "      <td>NaN</td>\n",
       "      <td>NaN</td>\n",
       "      <td>None</td>\n",
       "      <td>None</td>\n",
       "    </tr>\n",
       "    <tr>\n",
       "      <th>1</th>\n",
       "      <td>snscrape.modules.twitter.Tweet</td>\n",
       "      <td>https://twitter.com/ImranKhanPTI/status/151994...</td>\n",
       "      <td>2022-04-29 07:35:55+00:00</td>\n",
       "      <td>Today, Al Quds Day, we express solidarity with...</td>\n",
       "      <td>Today, Al Quds Day, we express solidarity with...</td>\n",
       "      <td>1519943545435480065</td>\n",
       "      <td>{'_type': 'snscrape.modules.twitter.User', 'us...</td>\n",
       "      <td>3891</td>\n",
       "      <td>31059</td>\n",
       "      <td>94706</td>\n",
       "      <td>...</td>\n",
       "      <td>None</td>\n",
       "      <td>NaN</td>\n",
       "      <td>None</td>\n",
       "      <td>NaN</td>\n",
       "      <td>None</td>\n",
       "      <td>None</td>\n",
       "      <td>NaN</td>\n",
       "      <td>NaN</td>\n",
       "      <td>None</td>\n",
       "      <td>None</td>\n",
       "    </tr>\n",
       "    <tr>\n",
       "      <th>2</th>\n",
       "      <td>snscrape.modules.twitter.Tweet</td>\n",
       "      <td>https://twitter.com/ImranKhanPTI/status/151969...</td>\n",
       "      <td>2022-04-28 15:27:26+00:00</td>\n",
       "      <td>پاکستان14اگست1947بمطابق27رمضان المبارک معرضِ و...</td>\n",
       "      <td>پاکستان14اگست1947بمطابق27رمضان المبارک معرضِ و...</td>\n",
       "      <td>1519699821451517953</td>\n",
       "      <td>{'_type': 'snscrape.modules.twitter.User', 'us...</td>\n",
       "      <td>5084</td>\n",
       "      <td>26456</td>\n",
       "      <td>74949</td>\n",
       "      <td>...</td>\n",
       "      <td>None</td>\n",
       "      <td>NaN</td>\n",
       "      <td>None</td>\n",
       "      <td>NaN</td>\n",
       "      <td>None</td>\n",
       "      <td>None</td>\n",
       "      <td>NaN</td>\n",
       "      <td>NaN</td>\n",
       "      <td>[MarchAgainstImportedGovt]</td>\n",
       "      <td>None</td>\n",
       "    </tr>\n",
       "    <tr>\n",
       "      <th>3</th>\n",
       "      <td>snscrape.modules.twitter.Tweet</td>\n",
       "      <td>https://twitter.com/ImranKhanPTI/status/151969...</td>\n",
       "      <td>2022-04-28 15:01:07+00:00</td>\n",
       "      <td>Pakistan was created on 27th Ramazan 14th Augu...</td>\n",
       "      <td>Pakistan was created on 27th Ramazan 14th Augu...</td>\n",
       "      <td>1519693195617177600</td>\n",
       "      <td>{'_type': 'snscrape.modules.twitter.User', 'us...</td>\n",
       "      <td>7915</td>\n",
       "      <td>38442</td>\n",
       "      <td>117060</td>\n",
       "      <td>...</td>\n",
       "      <td>None</td>\n",
       "      <td>NaN</td>\n",
       "      <td>None</td>\n",
       "      <td>NaN</td>\n",
       "      <td>None</td>\n",
       "      <td>None</td>\n",
       "      <td>NaN</td>\n",
       "      <td>NaN</td>\n",
       "      <td>[MarchAgainstImportedGovt]</td>\n",
       "      <td>None</td>\n",
       "    </tr>\n",
       "    <tr>\n",
       "      <th>4</th>\n",
       "      <td>snscrape.modules.twitter.Tweet</td>\n",
       "      <td>https://twitter.com/ImranKhanPTI/status/151897...</td>\n",
       "      <td>2022-04-26 15:08:43+00:00</td>\n",
       "      <td>جامعہ کراچی کے چینی اساتذہ پر دہشت گرد حملے کی...</td>\n",
       "      <td>جامعہ کراچی کے چینی اساتذہ پر دہشت گرد حملے کی...</td>\n",
       "      <td>1518970335067996160</td>\n",
       "      <td>{'_type': 'snscrape.modules.twitter.User', 'us...</td>\n",
       "      <td>6231</td>\n",
       "      <td>35724</td>\n",
       "      <td>113785</td>\n",
       "      <td>...</td>\n",
       "      <td>None</td>\n",
       "      <td>NaN</td>\n",
       "      <td>None</td>\n",
       "      <td>NaN</td>\n",
       "      <td>None</td>\n",
       "      <td>None</td>\n",
       "      <td>NaN</td>\n",
       "      <td>NaN</td>\n",
       "      <td>None</td>\n",
       "      <td>None</td>\n",
       "    </tr>\n",
       "  </tbody>\n",
       "</table>\n",
       "<p>5 rows × 28 columns</p>\n",
       "</div>"
      ],
      "text/plain": [
       "                            _type  \\\n",
       "0  snscrape.modules.twitter.Tweet   \n",
       "1  snscrape.modules.twitter.Tweet   \n",
       "2  snscrape.modules.twitter.Tweet   \n",
       "3  snscrape.modules.twitter.Tweet   \n",
       "4  snscrape.modules.twitter.Tweet   \n",
       "\n",
       "                                                 url  \\\n",
       "0  https://twitter.com/ImranKhanPTI/status/151996...   \n",
       "1  https://twitter.com/ImranKhanPTI/status/151994...   \n",
       "2  https://twitter.com/ImranKhanPTI/status/151969...   \n",
       "3  https://twitter.com/ImranKhanPTI/status/151969...   \n",
       "4  https://twitter.com/ImranKhanPTI/status/151897...   \n",
       "\n",
       "                       date  \\\n",
       "0 2022-04-29 08:45:43+00:00   \n",
       "1 2022-04-29 07:35:55+00:00   \n",
       "2 2022-04-28 15:27:26+00:00   \n",
       "3 2022-04-28 15:01:07+00:00   \n",
       "4 2022-04-26 15:08:43+00:00   \n",
       "\n",
       "                                             content  \\\n",
       "0  یوم القدس کے موقع پر آج ہم قابض اسرائیلی فوجیو...   \n",
       "1  Today, Al Quds Day, we express solidarity with...   \n",
       "2  پاکستان14اگست1947بمطابق27رمضان المبارک معرضِ و...   \n",
       "3  Pakistan was created on 27th Ramazan 14th Augu...   \n",
       "4  جامعہ کراچی کے چینی اساتذہ پر دہشت گرد حملے کی...   \n",
       "\n",
       "                                     renderedContent                   id  \\\n",
       "0  یوم القدس کے موقع پر آج ہم قابض اسرائیلی فوجیو...  1519961113634512896   \n",
       "1  Today, Al Quds Day, we express solidarity with...  1519943545435480065   \n",
       "2  پاکستان14اگست1947بمطابق27رمضان المبارک معرضِ و...  1519699821451517953   \n",
       "3  Pakistan was created on 27th Ramazan 14th Augu...  1519693195617177600   \n",
       "4  جامعہ کراچی کے چینی اساتذہ پر دہشت گرد حملے کی...  1518970335067996160   \n",
       "\n",
       "                                                user  replyCount  \\\n",
       "0  {'_type': 'snscrape.modules.twitter.User', 'us...        6490   \n",
       "1  {'_type': 'snscrape.modules.twitter.User', 'us...        3891   \n",
       "2  {'_type': 'snscrape.modules.twitter.User', 'us...        5084   \n",
       "3  {'_type': 'snscrape.modules.twitter.User', 'us...        7915   \n",
       "4  {'_type': 'snscrape.modules.twitter.User', 'us...        6231   \n",
       "\n",
       "   retweetCount  likeCount  ...  media  retweetedTweet quotedTweet  \\\n",
       "0         36132     113093  ...   None             NaN        None   \n",
       "1         31059      94706  ...   None             NaN        None   \n",
       "2         26456      74949  ...   None             NaN        None   \n",
       "3         38442     117060  ...   None             NaN        None   \n",
       "4         35724     113785  ...   None             NaN        None   \n",
       "\n",
       "  inReplyToTweetId inReplyToUser mentionedUsers coordinates place  \\\n",
       "0              NaN          None           None         NaN   NaN   \n",
       "1              NaN          None           None         NaN   NaN   \n",
       "2              NaN          None           None         NaN   NaN   \n",
       "3              NaN          None           None         NaN   NaN   \n",
       "4              NaN          None           None         NaN   NaN   \n",
       "\n",
       "                     hashtags  cashtags  \n",
       "0                        None      None  \n",
       "1                        None      None  \n",
       "2  [MarchAgainstImportedGovt]      None  \n",
       "3  [MarchAgainstImportedGovt]      None  \n",
       "4                        None      None  \n",
       "\n",
       "[5 rows x 28 columns]"
      ]
     },
     "execution_count": 32,
     "metadata": {},
     "output_type": "execute_result"
    }
   ],
   "source": [
    "# check head\n",
    "tweets_df.head()"
   ]
  },
  {
   "cell_type": "markdown",
   "id": "cf59832b",
   "metadata": {},
   "source": [
    "Most of Imran Khan's tweets as Prime Minister have been in English and Urdu i.e. he would post a tweet in English, and then would post the same tweet in Urdu. This can be seen in a sample of his latest tweets that I am detecting the language for below (*ur* stands for Urdu)."
   ]
  },
  {
   "cell_type": "code",
   "execution_count": 71,
   "id": "493b2dd1",
   "metadata": {
    "scrolled": true
   },
   "outputs": [
    {
     "name": "stdout",
     "output_type": "stream",
     "text": [
      "en\n",
      "ur\n",
      "en\n",
      "ur\n",
      "en\n",
      "ur\n",
      "en\n",
      "ur\n",
      "en\n"
     ]
    }
   ],
   "source": [
    "for i in list(tweets_df.content.values)[1:10]:\n",
    "    print(ld.detect(i))"
   ]
  },
  {
   "cell_type": "markdown",
   "id": "234dc372",
   "metadata": {},
   "source": [
    "For this project, I only need his English tweets."
   ]
  },
  {
   "cell_type": "code",
   "execution_count": 72,
   "id": "009af2ce",
   "metadata": {},
   "outputs": [],
   "source": [
    "# create function to store only english tweets\n",
    "\n",
    "def is_en(x):\n",
    "    try:\n",
    "        return ld.detect(x) == 'en'\n",
    "    except:\n",
    "        return False"
   ]
  },
  {
   "cell_type": "code",
   "execution_count": 74,
   "id": "5755b7d8",
   "metadata": {},
   "outputs": [
    {
     "data": {
      "text/plain": [
       "(3638, 28)"
      ]
     },
     "execution_count": 74,
     "metadata": {},
     "output_type": "execute_result"
    }
   ],
   "source": [
    "# apply function and store as new dataframe\n",
    "df = tweets_df[tweets_df['content'].apply(is_en)]\n",
    "\n",
    "# check shape\n",
    "df.shape"
   ]
  },
  {
   "cell_type": "markdown",
   "id": "c3f44b8d",
   "metadata": {},
   "source": [
    "These English tweets may still include Urdu hashtags and website urls, as can be seen in a tweet printed below. Moreover, the English tweets may contain Urdu words written in Roman English e.g. in the tweet below, the word *jalsa* is used, which is the Urdu word for a rally. \n",
    "\n",
    "We can also see that the scraped tweet includes '&amp;' where there should only have been '&' (confirmed by looking at the original tweet)."
   ]
  },
  {
   "cell_type": "code",
   "execution_count": 104,
   "id": "ae102f4f",
   "metadata": {},
   "outputs": [
    {
     "data": {
      "text/plain": [
       "'Thank you Lahore for the massive support &amp; the biggest jalsa in my 26 years in politics; and the most responsive and passionate audience. #امپورٹڈ_حکومت_نامنظور https://t.co/T9UC6x16xm'"
      ]
     },
     "execution_count": 104,
     "metadata": {},
     "output_type": "execute_result"
    }
   ],
   "source": [
    "df.content.values[4]"
   ]
  },
  {
   "cell_type": "code",
   "execution_count": null,
   "id": "adbd36ef",
   "metadata": {},
   "outputs": [],
   "source": []
  }
 ],
 "metadata": {
  "kernelspec": {
   "display_name": "Python [conda env:test_env]",
   "language": "python",
   "name": "conda-env-test_env-py"
  },
  "language_info": {
   "codemirror_mode": {
    "name": "ipython",
    "version": 3
   },
   "file_extension": ".py",
   "mimetype": "text/x-python",
   "name": "python",
   "nbconvert_exporter": "python",
   "pygments_lexer": "ipython3",
   "version": "3.9.7"
  }
 },
 "nbformat": 4,
 "nbformat_minor": 5
}
